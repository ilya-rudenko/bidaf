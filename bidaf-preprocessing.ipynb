{
 "cells": [
  {
   "cell_type": "code",
   "execution_count": 1,
   "id": "6f44008c",
   "metadata": {
    "execution": {
     "iopub.execute_input": "2023-12-13T21:06:17.655047Z",
     "iopub.status.busy": "2023-12-13T21:06:17.654262Z",
     "iopub.status.idle": "2023-12-13T21:06:24.625353Z",
     "shell.execute_reply": "2023-12-13T21:06:24.623962Z"
    },
    "papermill": {
     "duration": 6.985375,
     "end_time": "2023-12-13T21:06:24.628329",
     "exception": false,
     "start_time": "2023-12-13T21:06:17.642954",
     "status": "completed"
    },
    "tags": []
   },
   "outputs": [],
   "source": [
    "import re, os, string, typing, gc, json\n",
    "import pandas as pd \n",
    "import numpy as np\n",
    "from collections import Counter\n",
    "import torch.nn.functional as F\n",
    "from torch import nn\n",
    "import pickle\n",
    "\n",
    "import spacy\n",
    "import en_core_web_sm\n",
    "nlp = en_core_web_sm.load(disable = ['parser','ner','tagger'])\n",
    "from tqdm.auto import tqdm, trange\n",
    "\n",
    "import torch"
   ]
  },
  {
   "cell_type": "code",
   "execution_count": 2,
   "id": "0f88ab4e",
   "metadata": {
    "execution": {
     "iopub.execute_input": "2023-12-13T21:06:24.649326Z",
     "iopub.status.busy": "2023-12-13T21:06:24.648255Z",
     "iopub.status.idle": "2023-12-13T21:06:24.654449Z",
     "shell.execute_reply": "2023-12-13T21:06:24.653684Z"
    },
    "papermill": {
     "duration": 0.018913,
     "end_time": "2023-12-13T21:06:24.656712",
     "exception": false,
     "start_time": "2023-12-13T21:06:24.637799",
     "status": "completed"
    },
    "tags": []
   },
   "outputs": [],
   "source": [
    "def load_json(path):\n",
    "    with open(path, 'r', encoding='utf-8') as file:\n",
    "        data = json.load(file)\n",
    "        \n",
    "    return data"
   ]
  },
  {
   "cell_type": "code",
   "execution_count": 3,
   "id": "06dc1f3e",
   "metadata": {
    "execution": {
     "iopub.execute_input": "2023-12-13T21:06:24.677167Z",
     "iopub.status.busy": "2023-12-13T21:06:24.676471Z",
     "iopub.status.idle": "2023-12-13T21:06:25.927557Z",
     "shell.execute_reply": "2023-12-13T21:06:25.926684Z"
    },
    "papermill": {
     "duration": 1.264063,
     "end_time": "2023-12-13T21:06:25.930166",
     "exception": false,
     "start_time": "2023-12-13T21:06:24.666103",
     "status": "completed"
    },
    "tags": []
   },
   "outputs": [],
   "source": [
    "train_data = load_json('/kaggle/input/squad-dataset/squad_train.json')\n",
    "valid_data = load_json('/kaggle/input/squad-dataset/squad_dev.json')"
   ]
  },
  {
   "cell_type": "code",
   "execution_count": 4,
   "id": "4616abe7",
   "metadata": {
    "execution": {
     "iopub.execute_input": "2023-12-13T21:06:25.950166Z",
     "iopub.status.busy": "2023-12-13T21:06:25.949152Z",
     "iopub.status.idle": "2023-12-13T21:06:25.958270Z",
     "shell.execute_reply": "2023-12-13T21:06:25.957206Z"
    },
    "papermill": {
     "duration": 0.021447,
     "end_time": "2023-12-13T21:06:25.960639",
     "exception": false,
     "start_time": "2023-12-13T21:06:25.939192",
     "status": "completed"
    },
    "tags": []
   },
   "outputs": [],
   "source": [
    "def parse_data(data):\n",
    "    data = data['data']\n",
    "    qa_list = []\n",
    "\n",
    "    for paragraphs in data:\n",
    "        for para in paragraphs['paragraphs']:\n",
    "            ctx = para['context']\n",
    "\n",
    "            for qa in para['qas']:\n",
    "                idx = qa['id']\n",
    "                quest = qa['question']\n",
    "                \n",
    "                for ans in qa['answers']:\n",
    "                    answ = ans['text']\n",
    "                    ans_start = ans['answer_start']\n",
    "                    ans_end = ans_start + len(answ)\n",
    "                    \n",
    "                    qa_list.append({\n",
    "                        \"id\": idx,\n",
    "                        \"context\": ctx,\n",
    "                        \"question\": quest,\n",
    "                        \"label\": [ans_start, ans_end],\n",
    "                        \"answer\": answ\n",
    "                    })    \n",
    "    \n",
    "    return qa_list"
   ]
  },
  {
   "cell_type": "code",
   "execution_count": 5,
   "id": "6ed81556",
   "metadata": {
    "execution": {
     "iopub.execute_input": "2023-12-13T21:06:25.979438Z",
     "iopub.status.busy": "2023-12-13T21:06:25.979058Z",
     "iopub.status.idle": "2023-12-13T21:06:26.792394Z",
     "shell.execute_reply": "2023-12-13T21:06:26.791133Z"
    },
    "papermill": {
     "duration": 0.82579,
     "end_time": "2023-12-13T21:06:26.795155",
     "exception": false,
     "start_time": "2023-12-13T21:06:25.969365",
     "status": "completed"
    },
    "tags": []
   },
   "outputs": [],
   "source": [
    "train_list = parse_data(train_data)\n",
    "valid_list = parse_data(valid_data)\n",
    "\n",
    "train_df = pd.DataFrame(train_list)\n",
    "valid_df = pd.DataFrame(valid_list)"
   ]
  },
  {
   "cell_type": "code",
   "execution_count": 6,
   "id": "a08d4edb",
   "metadata": {
    "execution": {
     "iopub.execute_input": "2023-12-13T21:06:26.814718Z",
     "iopub.status.busy": "2023-12-13T21:06:26.814307Z",
     "iopub.status.idle": "2023-12-13T21:06:26.841503Z",
     "shell.execute_reply": "2023-12-13T21:06:26.840389Z"
    },
    "papermill": {
     "duration": 0.039902,
     "end_time": "2023-12-13T21:06:26.844020",
     "exception": false,
     "start_time": "2023-12-13T21:06:26.804118",
     "status": "completed"
    },
    "tags": []
   },
   "outputs": [
    {
     "data": {
      "text/html": [
       "<div>\n",
       "<style scoped>\n",
       "    .dataframe tbody tr th:only-of-type {\n",
       "        vertical-align: middle;\n",
       "    }\n",
       "\n",
       "    .dataframe tbody tr th {\n",
       "        vertical-align: top;\n",
       "    }\n",
       "\n",
       "    .dataframe thead th {\n",
       "        text-align: right;\n",
       "    }\n",
       "</style>\n",
       "<table border=\"1\" class=\"dataframe\">\n",
       "  <thead>\n",
       "    <tr style=\"text-align: right;\">\n",
       "      <th></th>\n",
       "      <th>id</th>\n",
       "      <th>context</th>\n",
       "      <th>question</th>\n",
       "      <th>label</th>\n",
       "      <th>answer</th>\n",
       "    </tr>\n",
       "  </thead>\n",
       "  <tbody>\n",
       "    <tr>\n",
       "      <th>0</th>\n",
       "      <td>5733be284776f41900661182</td>\n",
       "      <td>Architecturally, the school has a Catholic cha...</td>\n",
       "      <td>To whom did the Virgin Mary allegedly appear i...</td>\n",
       "      <td>[515, 541]</td>\n",
       "      <td>Saint Bernadette Soubirous</td>\n",
       "    </tr>\n",
       "    <tr>\n",
       "      <th>1</th>\n",
       "      <td>5733be284776f4190066117f</td>\n",
       "      <td>Architecturally, the school has a Catholic cha...</td>\n",
       "      <td>What is in front of the Notre Dame Main Building?</td>\n",
       "      <td>[188, 213]</td>\n",
       "      <td>a copper statue of Christ</td>\n",
       "    </tr>\n",
       "    <tr>\n",
       "      <th>2</th>\n",
       "      <td>5733be284776f41900661180</td>\n",
       "      <td>Architecturally, the school has a Catholic cha...</td>\n",
       "      <td>The Basilica of the Sacred heart at Notre Dame...</td>\n",
       "      <td>[279, 296]</td>\n",
       "      <td>the Main Building</td>\n",
       "    </tr>\n",
       "    <tr>\n",
       "      <th>3</th>\n",
       "      <td>5733be284776f41900661181</td>\n",
       "      <td>Architecturally, the school has a Catholic cha...</td>\n",
       "      <td>What is the Grotto at Notre Dame?</td>\n",
       "      <td>[381, 420]</td>\n",
       "      <td>a Marian place of prayer and reflection</td>\n",
       "    </tr>\n",
       "    <tr>\n",
       "      <th>4</th>\n",
       "      <td>5733be284776f4190066117e</td>\n",
       "      <td>Architecturally, the school has a Catholic cha...</td>\n",
       "      <td>What sits on top of the Main Building at Notre...</td>\n",
       "      <td>[92, 126]</td>\n",
       "      <td>a golden statue of the Virgin Mary</td>\n",
       "    </tr>\n",
       "  </tbody>\n",
       "</table>\n",
       "</div>"
      ],
      "text/plain": [
       "                         id  \\\n",
       "0  5733be284776f41900661182   \n",
       "1  5733be284776f4190066117f   \n",
       "2  5733be284776f41900661180   \n",
       "3  5733be284776f41900661181   \n",
       "4  5733be284776f4190066117e   \n",
       "\n",
       "                                             context  \\\n",
       "0  Architecturally, the school has a Catholic cha...   \n",
       "1  Architecturally, the school has a Catholic cha...   \n",
       "2  Architecturally, the school has a Catholic cha...   \n",
       "3  Architecturally, the school has a Catholic cha...   \n",
       "4  Architecturally, the school has a Catholic cha...   \n",
       "\n",
       "                                            question       label  \\\n",
       "0  To whom did the Virgin Mary allegedly appear i...  [515, 541]   \n",
       "1  What is in front of the Notre Dame Main Building?  [188, 213]   \n",
       "2  The Basilica of the Sacred heart at Notre Dame...  [279, 296]   \n",
       "3                  What is the Grotto at Notre Dame?  [381, 420]   \n",
       "4  What sits on top of the Main Building at Notre...   [92, 126]   \n",
       "\n",
       "                                    answer  \n",
       "0               Saint Bernadette Soubirous  \n",
       "1                a copper statue of Christ  \n",
       "2                        the Main Building  \n",
       "3  a Marian place of prayer and reflection  \n",
       "4       a golden statue of the Virgin Mary  "
      ]
     },
     "execution_count": 6,
     "metadata": {},
     "output_type": "execute_result"
    }
   ],
   "source": [
    "train_df.head()"
   ]
  },
  {
   "cell_type": "code",
   "execution_count": 7,
   "id": "56210b4e",
   "metadata": {
    "execution": {
     "iopub.execute_input": "2023-12-13T21:06:26.864605Z",
     "iopub.status.busy": "2023-12-13T21:06:26.864019Z",
     "iopub.status.idle": "2023-12-13T21:06:26.869026Z",
     "shell.execute_reply": "2023-12-13T21:06:26.868279Z"
    },
    "papermill": {
     "duration": 0.017626,
     "end_time": "2023-12-13T21:06:26.871058",
     "exception": false,
     "start_time": "2023-12-13T21:06:26.853432",
     "status": "completed"
    },
    "tags": []
   },
   "outputs": [],
   "source": [
    "def lower_df(df):\n",
    "    \n",
    "    def to_lower(text):\n",
    "        return text.lower()\n",
    "\n",
    "    df.context = df.context.apply(to_lower)\n",
    "    df.question = df.question.apply(to_lower)\n",
    "    df.answer = df.answer.apply(to_lower)"
   ]
  },
  {
   "cell_type": "code",
   "execution_count": 8,
   "id": "3fe5fa39",
   "metadata": {
    "execution": {
     "iopub.execute_input": "2023-12-13T21:06:26.891537Z",
     "iopub.status.busy": "2023-12-13T21:06:26.890924Z",
     "iopub.status.idle": "2023-12-13T21:06:27.662985Z",
     "shell.execute_reply": "2023-12-13T21:06:27.661977Z"
    },
    "papermill": {
     "duration": 0.785686,
     "end_time": "2023-12-13T21:06:27.665755",
     "exception": false,
     "start_time": "2023-12-13T21:06:26.880069",
     "status": "completed"
    },
    "tags": []
   },
   "outputs": [],
   "source": [
    "lower_df(train_df)\n",
    "lower_df(valid_df)"
   ]
  },
  {
   "cell_type": "code",
   "execution_count": 9,
   "id": "2b067c7c",
   "metadata": {
    "execution": {
     "iopub.execute_input": "2023-12-13T21:06:27.686583Z",
     "iopub.status.busy": "2023-12-13T21:06:27.685945Z",
     "iopub.status.idle": "2023-12-13T21:06:28.179714Z",
     "shell.execute_reply": "2023-12-13T21:06:28.178503Z"
    },
    "papermill": {
     "duration": 0.506952,
     "end_time": "2023-12-13T21:06:28.182022",
     "exception": false,
     "start_time": "2023-12-13T21:06:27.675070",
     "status": "completed"
    },
    "tags": []
   },
   "outputs": [
    {
     "name": "stdout",
     "output_type": "stream",
     "text": [
      "Unique sentences: 118822\n"
     ]
    }
   ],
   "source": [
    "vocab_text = []\n",
    "total = 0\n",
    "for df in [train_df, valid_df]:\n",
    "    unique_contexts = list(df.context.unique())\n",
    "    unique_questions = list(df.question.unique())\n",
    "    total += df.context.nunique() + df.question.nunique()\n",
    "    vocab_text.extend(unique_contexts + unique_questions)\n",
    "\n",
    "print(\"Unique sentences:\", len(vocab_text))"
   ]
  },
  {
   "cell_type": "markdown",
   "id": "cae4e2e7",
   "metadata": {
    "papermill": {
     "duration": 0.008628,
     "end_time": "2023-12-13T21:06:28.199651",
     "exception": false,
     "start_time": "2023-12-13T21:06:28.191023",
     "status": "completed"
    },
    "tags": []
   },
   "source": [
    "# Word Vocab"
   ]
  },
  {
   "cell_type": "code",
   "execution_count": 10,
   "id": "1ad3ccf7",
   "metadata": {
    "execution": {
     "iopub.execute_input": "2023-12-13T21:06:28.219738Z",
     "iopub.status.busy": "2023-12-13T21:06:28.219357Z",
     "iopub.status.idle": "2023-12-13T21:16:30.031735Z",
     "shell.execute_reply": "2023-12-13T21:16:30.030509Z"
    },
    "papermill": {
     "duration": 601.825639,
     "end_time": "2023-12-13T21:16:30.034427",
     "exception": false,
     "start_time": "2023-12-13T21:06:28.208788",
     "status": "completed"
    },
    "tags": []
   },
   "outputs": [
    {
     "data": {
      "application/vnd.jupyter.widget-view+json": {
       "model_id": "7a1c871bbe3a404f9b7a2f3822834a47",
       "version_major": 2,
       "version_minor": 0
      },
      "text/plain": [
       "  0%|          | 0/118822 [00:00<?, ?it/s]"
      ]
     },
     "metadata": {},
     "output_type": "display_data"
    },
    {
     "name": "stderr",
     "output_type": "stream",
     "text": [
      "/opt/conda/lib/python3.10/site-packages/spacy/pipeline/lemmatizer.py:211: UserWarning: [W108] The rule-based lemmatizer did not find POS annotation for one or more tokens. Check that your pipeline includes components that assign token.pos, typically 'tagger'+'attribute_ruler' or 'morphologizer'.\n",
      "  warnings.warn(Warnings.W108)\n"
     ]
    }
   ],
   "source": [
    "words = []\n",
    "for sent in tqdm(vocab_text):\n",
    "    for word in nlp(sent, disable=['parser','tagger','ner']):\n",
    "        words.append(word.text)\n",
    "\n",
    "word_counter = Counter(words)\n",
    "word_vocab = sorted(word_counter, key=word_counter.get, reverse=True)\n",
    "\n",
    "word_vocab.insert(0, '<unk>')\n",
    "word_vocab.insert(1, '<pad>')\n",
    "word2idx = {word:idx for idx, word in enumerate(word_vocab)}\n",
    "idx2word = {v:k for k,v in word2idx.items()}"
   ]
  },
  {
   "cell_type": "markdown",
   "id": "7f220681",
   "metadata": {
    "papermill": {
     "duration": 0.009345,
     "end_time": "2023-12-13T21:16:30.053833",
     "exception": false,
     "start_time": "2023-12-13T21:16:30.044488",
     "status": "completed"
    },
    "tags": []
   },
   "source": [
    "# Char Vocab"
   ]
  },
  {
   "cell_type": "code",
   "execution_count": 11,
   "id": "5e37c000",
   "metadata": {
    "execution": {
     "iopub.execute_input": "2023-12-13T21:16:30.074872Z",
     "iopub.status.busy": "2023-12-13T21:16:30.074449Z",
     "iopub.status.idle": "2023-12-13T21:16:34.682872Z",
     "shell.execute_reply": "2023-12-13T21:16:34.681731Z"
    },
    "papermill": {
     "duration": 4.622044,
     "end_time": "2023-12-13T21:16:34.685386",
     "exception": false,
     "start_time": "2023-12-13T21:16:30.063342",
     "status": "completed"
    },
    "tags": []
   },
   "outputs": [
    {
     "data": {
      "application/vnd.jupyter.widget-view+json": {
       "model_id": "d7b7c83b12d44b72bada58d5bd1d5381",
       "version_major": 2,
       "version_minor": 0
      },
      "text/plain": [
       "  0%|          | 0/118822 [00:00<?, ?it/s]"
      ]
     },
     "metadata": {},
     "output_type": "display_data"
    }
   ],
   "source": [
    "chars = []\n",
    "for sent in tqdm(vocab_text):\n",
    "    for ch in sent:\n",
    "        chars.append(ch)\n",
    "\n",
    "char_counter = Counter(chars)\n",
    "char_vocab = sorted(char_counter, key=char_counter.get, reverse=True)\n",
    "high_freq_char = [char for char, count in char_counter.items() if count>=20]\n",
    "char_vocab = list(set(char_vocab).intersection(set(high_freq_char)))\n",
    "char_vocab.insert(0,'<unk>')\n",
    "char_vocab.insert(1,'<pad>')\n",
    "char2idx = {char:idx for idx, char in enumerate(char_vocab)}"
   ]
  },
  {
   "cell_type": "markdown",
   "id": "83d66935",
   "metadata": {
    "papermill": {
     "duration": 0.009727,
     "end_time": "2023-12-13T21:16:34.705321",
     "exception": false,
     "start_time": "2023-12-13T21:16:34.695594",
     "status": "completed"
    },
    "tags": []
   },
   "source": [
    "# Ctx to Ids"
   ]
  },
  {
   "cell_type": "code",
   "execution_count": 12,
   "id": "80e25c8b",
   "metadata": {
    "execution": {
     "iopub.execute_input": "2023-12-13T21:16:34.728066Z",
     "iopub.status.busy": "2023-12-13T21:16:34.727641Z",
     "iopub.status.idle": "2023-12-13T21:16:34.733442Z",
     "shell.execute_reply": "2023-12-13T21:16:34.732694Z"
    },
    "papermill": {
     "duration": 0.020088,
     "end_time": "2023-12-13T21:16:34.735493",
     "exception": false,
     "start_time": "2023-12-13T21:16:34.715405",
     "status": "completed"
    },
    "tags": []
   },
   "outputs": [],
   "source": [
    "def context_to_ids(text, word2idx):\n",
    "    context_tokens = [w.text for w in nlp(text, disable=['parser','tagger','ner'])]\n",
    "    context_ids = [word2idx[word] for word in context_tokens]\n",
    "    \n",
    "    assert len(context_ids) == len(context_tokens)\n",
    "    return context_ids"
   ]
  },
  {
   "cell_type": "code",
   "execution_count": 13,
   "id": "d56e15a8",
   "metadata": {
    "execution": {
     "iopub.execute_input": "2023-12-13T21:16:34.757055Z",
     "iopub.status.busy": "2023-12-13T21:16:34.756704Z",
     "iopub.status.idle": "2023-12-13T21:42:00.895395Z",
     "shell.execute_reply": "2023-12-13T21:42:00.891192Z"
    },
    "papermill": {
     "duration": 1526.160715,
     "end_time": "2023-12-13T21:42:00.906164",
     "exception": false,
     "start_time": "2023-12-13T21:16:34.745449",
     "status": "completed"
    },
    "tags": []
   },
   "outputs": [
    {
     "name": "stderr",
     "output_type": "stream",
     "text": [
      "/opt/conda/lib/python3.10/site-packages/spacy/pipeline/lemmatizer.py:211: UserWarning: [W108] The rule-based lemmatizer did not find POS annotation for one or more tokens. Check that your pipeline includes components that assign token.pos, typically 'tagger'+'attribute_ruler' or 'morphologizer'.\n",
      "  warnings.warn(Warnings.W108)\n"
     ]
    },
    {
     "name": "stdout",
     "output_type": "stream",
     "text": [
      "CPU times: user 18min 1s, sys: 332 ms, total: 18min 1s\n",
      "Wall time: 18min 2s\n"
     ]
    },
    {
     "name": "stderr",
     "output_type": "stream",
     "text": [
      "/opt/conda/lib/python3.10/site-packages/spacy/pipeline/lemmatizer.py:211: UserWarning: [W108] The rule-based lemmatizer did not find POS annotation for one or more tokens. Check that your pipeline includes components that assign token.pos, typically 'tagger'+'attribute_ruler' or 'morphologizer'.\n",
      "  warnings.warn(Warnings.W108)\n"
     ]
    },
    {
     "name": "stdout",
     "output_type": "stream",
     "text": [
      "CPU times: user 7min 23s, sys: 173 ms, total: 7min 23s\n",
      "Wall time: 7min 24s\n"
     ]
    }
   ],
   "source": [
    "%time train_df['context_ids'] = train_df.context.apply(context_to_ids, word2idx=word2idx)\n",
    "%time valid_df['context_ids'] = valid_df.context.apply(context_to_ids, word2idx=word2idx)"
   ]
  },
  {
   "cell_type": "markdown",
   "id": "90dcea20",
   "metadata": {
    "papermill": {
     "duration": 0.010123,
     "end_time": "2023-12-13T21:42:00.926733",
     "exception": false,
     "start_time": "2023-12-13T21:42:00.916610",
     "status": "completed"
    },
    "tags": []
   },
   "source": [
    "# Quest to Ids"
   ]
  },
  {
   "cell_type": "code",
   "execution_count": 14,
   "id": "b7302fbb",
   "metadata": {
    "execution": {
     "iopub.execute_input": "2023-12-13T21:42:00.949033Z",
     "iopub.status.busy": "2023-12-13T21:42:00.948390Z",
     "iopub.status.idle": "2023-12-13T21:42:00.954061Z",
     "shell.execute_reply": "2023-12-13T21:42:00.953119Z"
    },
    "papermill": {
     "duration": 0.019523,
     "end_time": "2023-12-13T21:42:00.956375",
     "exception": false,
     "start_time": "2023-12-13T21:42:00.936852",
     "status": "completed"
    },
    "tags": []
   },
   "outputs": [],
   "source": [
    "def question_to_ids(text, word2idx):\n",
    "    question_tokens = [w.text for w in nlp(text, disable=['parser','tagger','ner'])]\n",
    "    question_ids = [word2idx[word] for word in question_tokens]\n",
    "    \n",
    "    assert len(question_ids) == len(question_tokens)\n",
    "    return question_ids"
   ]
  },
  {
   "cell_type": "code",
   "execution_count": 15,
   "id": "278e0f91",
   "metadata": {
    "execution": {
     "iopub.execute_input": "2023-12-13T21:42:00.978233Z",
     "iopub.status.busy": "2023-12-13T21:42:00.977852Z",
     "iopub.status.idle": "2023-12-13T21:48:57.997729Z",
     "shell.execute_reply": "2023-12-13T21:48:57.996725Z"
    },
    "papermill": {
     "duration": 417.034024,
     "end_time": "2023-12-13T21:48:58.000676",
     "exception": false,
     "start_time": "2023-12-13T21:42:00.966652",
     "status": "completed"
    },
    "tags": []
   },
   "outputs": [
    {
     "name": "stderr",
     "output_type": "stream",
     "text": [
      "/opt/conda/lib/python3.10/site-packages/spacy/pipeline/lemmatizer.py:211: UserWarning: [W108] The rule-based lemmatizer did not find POS annotation for one or more tokens. Check that your pipeline includes components that assign token.pos, typically 'tagger'+'attribute_ruler' or 'morphologizer'.\n",
      "  warnings.warn(Warnings.W108)\n",
      "/opt/conda/lib/python3.10/site-packages/spacy/pipeline/lemmatizer.py:211: UserWarning: [W108] The rule-based lemmatizer did not find POS annotation for one or more tokens. Check that your pipeline includes components that assign token.pos, typically 'tagger'+'attribute_ruler' or 'morphologizer'.\n",
      "  warnings.warn(Warnings.W108)\n"
     ]
    }
   ],
   "source": [
    "train_df['question_ids'] = train_df.question.apply(question_to_ids, word2idx=word2idx)\n",
    "valid_df['question_ids'] = valid_df.question.apply(question_to_ids, word2idx=word2idx)"
   ]
  },
  {
   "cell_type": "markdown",
   "id": "865018e0",
   "metadata": {
    "papermill": {
     "duration": 0.011243,
     "end_time": "2023-12-13T21:48:58.022977",
     "exception": false,
     "start_time": "2023-12-13T21:48:58.011734",
     "status": "completed"
    },
    "tags": []
   },
   "source": [
    "# Errors"
   ]
  },
  {
   "cell_type": "code",
   "execution_count": 16,
   "id": "3096704b",
   "metadata": {
    "execution": {
     "iopub.execute_input": "2023-12-13T21:48:58.046398Z",
     "iopub.status.busy": "2023-12-13T21:48:58.046013Z",
     "iopub.status.idle": "2023-12-13T21:48:58.059561Z",
     "shell.execute_reply": "2023-12-13T21:48:58.058234Z"
    },
    "papermill": {
     "duration": 0.027972,
     "end_time": "2023-12-13T21:48:58.061912",
     "exception": false,
     "start_time": "2023-12-13T21:48:58.033940",
     "status": "completed"
    },
    "tags": []
   },
   "outputs": [],
   "source": [
    "def test_indices(df, idx2word):\n",
    "    \n",
    "    start_value_error = []\n",
    "    end_value_error = []\n",
    "    assert_error = []\n",
    "    \n",
    "    for index, row in tqdm(df.iterrows()):\n",
    "\n",
    "        answer_tokens = [w.text for w in nlp(row['answer'], disable=['parser','tagger','ner'])]\n",
    "\n",
    "        start_token = answer_tokens[0]\n",
    "        end_token = answer_tokens[-1]\n",
    "        \n",
    "        context_span  = [(word.idx, word.idx + len(word.text)) for word in nlp(row['context'], disable=['parser','tagger','ner'])]\n",
    "\n",
    "        starts, ends = zip(*context_span)\n",
    "\n",
    "        answer_start, answer_end = row['label']\n",
    "\n",
    "        try:\n",
    "            start_idx = starts.index(answer_start)\n",
    "        except:\n",
    "            start_value_error.append(index)\n",
    "        try:\n",
    "            end_idx  = ends.index(answer_end)\n",
    "        except:\n",
    "            end_value_error.append(index)\n",
    "\n",
    "        try:\n",
    "            assert idx2word[row['context_ids'][start_idx]] == answer_tokens[0]\n",
    "            assert idx2word[row['context_ids'][end_idx]] == answer_tokens[-1]\n",
    "        except:\n",
    "            assert_error.append(index)\n",
    "\n",
    "\n",
    "    return start_value_error, end_value_error, assert_error\n",
    "\n",
    "\n",
    "\n",
    "def get_error_indices(df, idx2word):\n",
    "    start_value_error, end_value_error, assert_error = test_indices(df, idx2word)\n",
    "    err_idx = start_value_error + end_value_error + assert_error\n",
    "    err_idx = set(err_idx)\n",
    "    \n",
    "    return err_idx"
   ]
  },
  {
   "cell_type": "code",
   "execution_count": 17,
   "id": "8905985f",
   "metadata": {
    "execution": {
     "iopub.execute_input": "2023-12-13T21:48:58.085994Z",
     "iopub.status.busy": "2023-12-13T21:48:58.085570Z",
     "iopub.status.idle": "2023-12-13T22:20:59.023037Z",
     "shell.execute_reply": "2023-12-13T22:20:59.021731Z"
    },
    "papermill": {
     "duration": 1920.952459,
     "end_time": "2023-12-13T22:20:59.025827",
     "exception": false,
     "start_time": "2023-12-13T21:48:58.073368",
     "status": "completed"
    },
    "tags": []
   },
   "outputs": [
    {
     "data": {
      "application/vnd.jupyter.widget-view+json": {
       "model_id": "5f9d58cd4ffb4b2a8b8530e2f0d90a3e",
       "version_major": 2,
       "version_minor": 0
      },
      "text/plain": [
       "0it [00:00, ?it/s]"
      ]
     },
     "metadata": {},
     "output_type": "display_data"
    },
    {
     "name": "stderr",
     "output_type": "stream",
     "text": [
      "/opt/conda/lib/python3.10/site-packages/spacy/pipeline/lemmatizer.py:211: UserWarning: [W108] The rule-based lemmatizer did not find POS annotation for one or more tokens. Check that your pipeline includes components that assign token.pos, typically 'tagger'+'attribute_ruler' or 'morphologizer'.\n",
      "  warnings.warn(Warnings.W108)\n"
     ]
    },
    {
     "data": {
      "application/vnd.jupyter.widget-view+json": {
       "model_id": "3fbbe3a37a704d8eaf6788964cda6e0d",
       "version_major": 2,
       "version_minor": 0
      },
      "text/plain": [
       "0it [00:00, ?it/s]"
      ]
     },
     "metadata": {},
     "output_type": "display_data"
    }
   ],
   "source": [
    "train_err = get_error_indices(train_df, idx2word)\n",
    "valid_err = get_error_indices(valid_df, idx2word)\n",
    "\n",
    "train_df = train_df.drop(train_err)\n",
    "valid_df = valid_df.drop(valid_err)"
   ]
  },
  {
   "cell_type": "markdown",
   "id": "f719bdbc",
   "metadata": {
    "papermill": {
     "duration": 0.011079,
     "end_time": "2023-12-13T22:20:59.048305",
     "exception": false,
     "start_time": "2023-12-13T22:20:59.037226",
     "status": "completed"
    },
    "tags": []
   },
   "source": [
    "# Labels"
   ]
  },
  {
   "cell_type": "code",
   "execution_count": 18,
   "id": "e2dac803",
   "metadata": {
    "execution": {
     "iopub.execute_input": "2023-12-13T22:20:59.073272Z",
     "iopub.status.busy": "2023-12-13T22:20:59.072605Z",
     "iopub.status.idle": "2023-12-13T22:20:59.082006Z",
     "shell.execute_reply": "2023-12-13T22:20:59.081188Z"
    },
    "papermill": {
     "duration": 0.024749,
     "end_time": "2023-12-13T22:20:59.084292",
     "exception": false,
     "start_time": "2023-12-13T22:20:59.059543",
     "status": "completed"
    },
    "tags": []
   },
   "outputs": [],
   "source": [
    "def index_answer(row, idx2word):    \n",
    "    context_span = [(word.idx, word.idx + len(word.text)) for word in nlp(row.context, disable=['parser','tagger','ner'])]\n",
    "    starts, ends = zip(*context_span)\n",
    "    \n",
    "    answer_start, answer_end = row.label\n",
    "    start_idx = starts.index(answer_start)\n",
    " \n",
    "    end_idx  = ends.index(answer_end)\n",
    "    \n",
    "    ans_toks = [w.text for w in nlp(row.answer,disable=['parser','tagger','ner'])]\n",
    "    ans_start = ans_toks[0]\n",
    "    ans_end = ans_toks[-1]\n",
    "    \n",
    "    return [start_idx, end_idx]"
   ]
  },
  {
   "cell_type": "code",
   "execution_count": 19,
   "id": "83a11126",
   "metadata": {
    "execution": {
     "iopub.execute_input": "2023-12-13T22:20:59.109291Z",
     "iopub.status.busy": "2023-12-13T22:20:59.108655Z",
     "iopub.status.idle": "2023-12-13T22:54:25.671509Z",
     "shell.execute_reply": "2023-12-13T22:54:25.670198Z"
    },
    "papermill": {
     "duration": 2006.579072,
     "end_time": "2023-12-13T22:54:25.674787",
     "exception": false,
     "start_time": "2023-12-13T22:20:59.095715",
     "status": "completed"
    },
    "tags": []
   },
   "outputs": [
    {
     "name": "stderr",
     "output_type": "stream",
     "text": [
      "/opt/conda/lib/python3.10/site-packages/spacy/pipeline/lemmatizer.py:211: UserWarning: [W108] The rule-based lemmatizer did not find POS annotation for one or more tokens. Check that your pipeline includes components that assign token.pos, typically 'tagger'+'attribute_ruler' or 'morphologizer'.\n",
      "  warnings.warn(Warnings.W108)\n"
     ]
    }
   ],
   "source": [
    "train_label_idx = train_df.apply(index_answer, axis=1, idx2word=idx2word)\n",
    "valid_label_idx = valid_df.apply(index_answer, axis=1, idx2word=idx2word)\n",
    "\n",
    "train_df['label_idx'] = train_label_idx\n",
    "valid_df['label_idx'] = valid_label_idx"
   ]
  },
  {
   "cell_type": "code",
   "execution_count": 20,
   "id": "a626e259",
   "metadata": {
    "execution": {
     "iopub.execute_input": "2023-12-13T22:54:25.702128Z",
     "iopub.status.busy": "2023-12-13T22:54:25.701735Z",
     "iopub.status.idle": "2023-12-13T22:54:27.189904Z",
     "shell.execute_reply": "2023-12-13T22:54:27.188618Z"
    },
    "papermill": {
     "duration": 1.504901,
     "end_time": "2023-12-13T22:54:27.193202",
     "exception": false,
     "start_time": "2023-12-13T22:54:25.688301",
     "status": "completed"
    },
    "tags": []
   },
   "outputs": [],
   "source": [
    "train_df.to_pickle('bidaftrain.pkl')\n",
    "valid_df.to_pickle('bidafvalid.pkl')\n",
    "\n",
    "with open('bidafw2id.pickle','wb') as handle:\n",
    "    pickle.dump(word2idx, handle)\n",
    "\n",
    "with open('bidafc2id.pickle','wb') as handle:\n",
    "    pickle.dump(char2idx, handle)"
   ]
  },
  {
   "cell_type": "code",
   "execution_count": 21,
   "id": "2cba4b8d",
   "metadata": {
    "execution": {
     "iopub.execute_input": "2023-12-13T22:54:27.219318Z",
     "iopub.status.busy": "2023-12-13T22:54:27.218855Z",
     "iopub.status.idle": "2023-12-13T22:54:27.227005Z",
     "shell.execute_reply": "2023-12-13T22:54:27.225798Z"
    },
    "papermill": {
     "duration": 0.024573,
     "end_time": "2023-12-13T22:54:27.230118",
     "exception": false,
     "start_time": "2023-12-13T22:54:27.205545",
     "status": "completed"
    },
    "tags": []
   },
   "outputs": [],
   "source": [
    "def get_glove_dict(path_to_glove):\n",
    "    glove_dict = {}\n",
    "    with open(path_to_glove, \"r\", encoding=\"utf-8\") as f:\n",
    "        for line in f:\n",
    "            values = line.split()\n",
    "            word = values[0]\n",
    "            vector = np.asarray(values[1:], \"float32\")\n",
    "            glove_dict[word] = vector\n",
    "            \n",
    "    f.close()\n",
    "    \n",
    "    return glove_dict"
   ]
  },
  {
   "cell_type": "code",
   "execution_count": 22,
   "id": "0fba6608",
   "metadata": {
    "execution": {
     "iopub.execute_input": "2023-12-13T22:54:27.258585Z",
     "iopub.status.busy": "2023-12-13T22:54:27.257342Z",
     "iopub.status.idle": "2023-12-13T22:54:42.225259Z",
     "shell.execute_reply": "2023-12-13T22:54:42.223908Z"
    },
    "papermill": {
     "duration": 14.98541,
     "end_time": "2023-12-13T22:54:42.228272",
     "exception": false,
     "start_time": "2023-12-13T22:54:27.242862",
     "status": "completed"
    },
    "tags": []
   },
   "outputs": [],
   "source": [
    "glove_dict = get_glove_dict(\"/kaggle/input/glove6b100dtxt/glove.6B.100d.txt\")"
   ]
  },
  {
   "cell_type": "code",
   "execution_count": 23,
   "id": "4dc35326",
   "metadata": {
    "execution": {
     "iopub.execute_input": "2023-12-13T22:54:42.254886Z",
     "iopub.status.busy": "2023-12-13T22:54:42.253933Z",
     "iopub.status.idle": "2023-12-13T22:54:42.260758Z",
     "shell.execute_reply": "2023-12-13T22:54:42.259611Z"
    },
    "papermill": {
     "duration": 0.022937,
     "end_time": "2023-12-13T22:54:42.263319",
     "exception": false,
     "start_time": "2023-12-13T22:54:42.240382",
     "status": "completed"
    },
    "tags": []
   },
   "outputs": [],
   "source": [
    "def create_weights_matrix(glove_dict):\n",
    "    weights_matrix = np.zeros((len(word_vocab), 100))\n",
    "    for i, word in enumerate(word_vocab):\n",
    "        try:\n",
    "            weights_matrix[i] = glove_dict[word]\n",
    "        except:\n",
    "            pass\n",
    "        \n",
    "    return weights_matrix"
   ]
  },
  {
   "cell_type": "code",
   "execution_count": 24,
   "id": "d9556e54",
   "metadata": {
    "execution": {
     "iopub.execute_input": "2023-12-13T22:54:42.289637Z",
     "iopub.status.busy": "2023-12-13T22:54:42.289216Z",
     "iopub.status.idle": "2023-12-13T22:54:42.603261Z",
     "shell.execute_reply": "2023-12-13T22:54:42.601724Z"
    },
    "papermill": {
     "duration": 0.330967,
     "end_time": "2023-12-13T22:54:42.606400",
     "exception": false,
     "start_time": "2023-12-13T22:54:42.275433",
     "status": "completed"
    },
    "tags": []
   },
   "outputs": [],
   "source": [
    "weights_matrix = create_weights_matrix(glove_dict)"
   ]
  },
  {
   "cell_type": "code",
   "execution_count": 25,
   "id": "bcccd7c5",
   "metadata": {
    "execution": {
     "iopub.execute_input": "2023-12-13T22:54:42.637416Z",
     "iopub.status.busy": "2023-12-13T22:54:42.637000Z",
     "iopub.status.idle": "2023-12-13T22:54:42.750173Z",
     "shell.execute_reply": "2023-12-13T22:54:42.748985Z"
    },
    "papermill": {
     "duration": 0.130539,
     "end_time": "2023-12-13T22:54:42.753646",
     "exception": false,
     "start_time": "2023-12-13T22:54:42.623107",
     "status": "completed"
    },
    "tags": []
   },
   "outputs": [],
   "source": [
    "np.save('bidafglove_tv.npy', weights_matrix)"
   ]
  }
 ],
 "metadata": {
  "kaggle": {
   "accelerator": "none",
   "dataSources": [
    {
     "datasetId": 4160358,
     "sourceId": 7194099,
     "sourceType": "datasetVersion"
    },
    {
     "datasetId": 715814,
     "sourceId": 1246668,
     "sourceType": "datasetVersion"
    }
   ],
   "dockerImageVersionId": 30626,
   "isGpuEnabled": false,
   "isInternetEnabled": true,
   "language": "python",
   "sourceType": "notebook"
  },
  "kernelspec": {
   "display_name": "Python 3",
   "language": "python",
   "name": "python3"
  },
  "language_info": {
   "codemirror_mode": {
    "name": "ipython",
    "version": 3
   },
   "file_extension": ".py",
   "mimetype": "text/x-python",
   "name": "python",
   "nbconvert_exporter": "python",
   "pygments_lexer": "ipython3",
   "version": "3.10.12"
  },
  "papermill": {
   "default_parameters": {},
   "duration": 6511.221106,
   "end_time": "2023-12-13T22:54:45.509696",
   "environment_variables": {},
   "exception": null,
   "input_path": "__notebook__.ipynb",
   "output_path": "__notebook__.ipynb",
   "parameters": {},
   "start_time": "2023-12-13T21:06:14.288590",
   "version": "2.4.0"
  },
  "widgets": {
   "application/vnd.jupyter.widget-state+json": {
    "state": {
     "05c2a18eaf794b05a85d623e762faf19": {
      "model_module": "@jupyter-widgets/controls",
      "model_module_version": "1.5.0",
      "model_name": "DescriptionStyleModel",
      "state": {
       "_model_module": "@jupyter-widgets/controls",
       "_model_module_version": "1.5.0",
       "_model_name": "DescriptionStyleModel",
       "_view_count": null,
       "_view_module": "@jupyter-widgets/base",
       "_view_module_version": "1.2.0",
       "_view_name": "StyleView",
       "description_width": ""
      }
     },
     "083ccc42791d4b57a0e6fc04b44d9d68": {
      "model_module": "@jupyter-widgets/controls",
      "model_module_version": "1.5.0",
      "model_name": "DescriptionStyleModel",
      "state": {
       "_model_module": "@jupyter-widgets/controls",
       "_model_module_version": "1.5.0",
       "_model_name": "DescriptionStyleModel",
       "_view_count": null,
       "_view_module": "@jupyter-widgets/base",
       "_view_module_version": "1.2.0",
       "_view_name": "StyleView",
       "description_width": ""
      }
     },
     "11bae91ed78e4dd1beb1c29bfb564fd6": {
      "model_module": "@jupyter-widgets/controls",
      "model_module_version": "1.5.0",
      "model_name": "FloatProgressModel",
      "state": {
       "_dom_classes": [],
       "_model_module": "@jupyter-widgets/controls",
       "_model_module_version": "1.5.0",
       "_model_name": "FloatProgressModel",
       "_view_count": null,
       "_view_module": "@jupyter-widgets/controls",
       "_view_module_version": "1.5.0",
       "_view_name": "ProgressView",
       "bar_style": "success",
       "description": "",
       "description_tooltip": null,
       "layout": "IPY_MODEL_f2c32afb6a92436fbe2392fce064f71b",
       "max": 118822.0,
       "min": 0.0,
       "orientation": "horizontal",
       "style": "IPY_MODEL_92b9ba814f564cd89366161f84eead26",
       "value": 118822.0
      }
     },
     "16bedcba1b8643b5a4605446ea38782c": {
      "model_module": "@jupyter-widgets/base",
      "model_module_version": "1.2.0",
      "model_name": "LayoutModel",
      "state": {
       "_model_module": "@jupyter-widgets/base",
       "_model_module_version": "1.2.0",
       "_model_name": "LayoutModel",
       "_view_count": null,
       "_view_module": "@jupyter-widgets/base",
       "_view_module_version": "1.2.0",
       "_view_name": "LayoutView",
       "align_content": null,
       "align_items": null,
       "align_self": null,
       "border": null,
       "bottom": null,
       "display": null,
       "flex": null,
       "flex_flow": null,
       "grid_area": null,
       "grid_auto_columns": null,
       "grid_auto_flow": null,
       "grid_auto_rows": null,
       "grid_column": null,
       "grid_gap": null,
       "grid_row": null,
       "grid_template_areas": null,
       "grid_template_columns": null,
       "grid_template_rows": null,
       "height": null,
       "justify_content": null,
       "justify_items": null,
       "left": null,
       "margin": null,
       "max_height": null,
       "max_width": null,
       "min_height": null,
       "min_width": null,
       "object_fit": null,
       "object_position": null,
       "order": null,
       "overflow": null,
       "overflow_x": null,
       "overflow_y": null,
       "padding": null,
       "right": null,
       "top": null,
       "visibility": null,
       "width": null
      }
     },
     "1ec2428dd63542acbc8ca10242c7c0aa": {
      "model_module": "@jupyter-widgets/controls",
      "model_module_version": "1.5.0",
      "model_name": "DescriptionStyleModel",
      "state": {
       "_model_module": "@jupyter-widgets/controls",
       "_model_module_version": "1.5.0",
       "_model_name": "DescriptionStyleModel",
       "_view_count": null,
       "_view_module": "@jupyter-widgets/base",
       "_view_module_version": "1.2.0",
       "_view_name": "StyleView",
       "description_width": ""
      }
     },
     "295de970166b44139e91f941e523a2ec": {
      "model_module": "@jupyter-widgets/base",
      "model_module_version": "1.2.0",
      "model_name": "LayoutModel",
      "state": {
       "_model_module": "@jupyter-widgets/base",
       "_model_module_version": "1.2.0",
       "_model_name": "LayoutModel",
       "_view_count": null,
       "_view_module": "@jupyter-widgets/base",
       "_view_module_version": "1.2.0",
       "_view_name": "LayoutView",
       "align_content": null,
       "align_items": null,
       "align_self": null,
       "border": null,
       "bottom": null,
       "display": null,
       "flex": null,
       "flex_flow": null,
       "grid_area": null,
       "grid_auto_columns": null,
       "grid_auto_flow": null,
       "grid_auto_rows": null,
       "grid_column": null,
       "grid_gap": null,
       "grid_row": null,
       "grid_template_areas": null,
       "grid_template_columns": null,
       "grid_template_rows": null,
       "height": null,
       "justify_content": null,
       "justify_items": null,
       "left": null,
       "margin": null,
       "max_height": null,
       "max_width": null,
       "min_height": null,
       "min_width": null,
       "object_fit": null,
       "object_position": null,
       "order": null,
       "overflow": null,
       "overflow_x": null,
       "overflow_y": null,
       "padding": null,
       "right": null,
       "top": null,
       "visibility": null,
       "width": null
      }
     },
     "371935b551ac4295b6c1aca9ceaaa5c4": {
      "model_module": "@jupyter-widgets/base",
      "model_module_version": "1.2.0",
      "model_name": "LayoutModel",
      "state": {
       "_model_module": "@jupyter-widgets/base",
       "_model_module_version": "1.2.0",
       "_model_name": "LayoutModel",
       "_view_count": null,
       "_view_module": "@jupyter-widgets/base",
       "_view_module_version": "1.2.0",
       "_view_name": "LayoutView",
       "align_content": null,
       "align_items": null,
       "align_self": null,
       "border": null,
       "bottom": null,
       "display": null,
       "flex": null,
       "flex_flow": null,
       "grid_area": null,
       "grid_auto_columns": null,
       "grid_auto_flow": null,
       "grid_auto_rows": null,
       "grid_column": null,
       "grid_gap": null,
       "grid_row": null,
       "grid_template_areas": null,
       "grid_template_columns": null,
       "grid_template_rows": null,
       "height": null,
       "justify_content": null,
       "justify_items": null,
       "left": null,
       "margin": null,
       "max_height": null,
       "max_width": null,
       "min_height": null,
       "min_width": null,
       "object_fit": null,
       "object_position": null,
       "order": null,
       "overflow": null,
       "overflow_x": null,
       "overflow_y": null,
       "padding": null,
       "right": null,
       "top": null,
       "visibility": null,
       "width": "20px"
      }
     },
     "3854975a73094e75802247d1eed98c87": {
      "model_module": "@jupyter-widgets/base",
      "model_module_version": "1.2.0",
      "model_name": "LayoutModel",
      "state": {
       "_model_module": "@jupyter-widgets/base",
       "_model_module_version": "1.2.0",
       "_model_name": "LayoutModel",
       "_view_count": null,
       "_view_module": "@jupyter-widgets/base",
       "_view_module_version": "1.2.0",
       "_view_name": "LayoutView",
       "align_content": null,
       "align_items": null,
       "align_self": null,
       "border": null,
       "bottom": null,
       "display": null,
       "flex": null,
       "flex_flow": null,
       "grid_area": null,
       "grid_auto_columns": null,
       "grid_auto_flow": null,
       "grid_auto_rows": null,
       "grid_column": null,
       "grid_gap": null,
       "grid_row": null,
       "grid_template_areas": null,
       "grid_template_columns": null,
       "grid_template_rows": null,
       "height": null,
       "justify_content": null,
       "justify_items": null,
       "left": null,
       "margin": null,
       "max_height": null,
       "max_width": null,
       "min_height": null,
       "min_width": null,
       "object_fit": null,
       "object_position": null,
       "order": null,
       "overflow": null,
       "overflow_x": null,
       "overflow_y": null,
       "padding": null,
       "right": null,
       "top": null,
       "visibility": null,
       "width": null
      }
     },
     "3e97aa81efa948b1905b6dd7e775b7d9": {
      "model_module": "@jupyter-widgets/controls",
      "model_module_version": "1.5.0",
      "model_name": "ProgressStyleModel",
      "state": {
       "_model_module": "@jupyter-widgets/controls",
       "_model_module_version": "1.5.0",
       "_model_name": "ProgressStyleModel",
       "_view_count": null,
       "_view_module": "@jupyter-widgets/base",
       "_view_module_version": "1.2.0",
       "_view_name": "StyleView",
       "bar_color": null,
       "description_width": ""
      }
     },
     "3fbbe3a37a704d8eaf6788964cda6e0d": {
      "model_module": "@jupyter-widgets/controls",
      "model_module_version": "1.5.0",
      "model_name": "HBoxModel",
      "state": {
       "_dom_classes": [],
       "_model_module": "@jupyter-widgets/controls",
       "_model_module_version": "1.5.0",
       "_model_name": "HBoxModel",
       "_view_count": null,
       "_view_module": "@jupyter-widgets/controls",
       "_view_module_version": "1.5.0",
       "_view_name": "HBoxView",
       "box_style": "",
       "children": [
        "IPY_MODEL_48da873573f54807a94522848cc48384",
        "IPY_MODEL_e231459124dc43dda38f1cd6d0fdacc4",
        "IPY_MODEL_d2c91043752641dc8768d660ee24e91c"
       ],
       "layout": "IPY_MODEL_992c3d437d2d41ea969baa385f6ad4d0"
      }
     },
     "48da873573f54807a94522848cc48384": {
      "model_module": "@jupyter-widgets/controls",
      "model_module_version": "1.5.0",
      "model_name": "HTMLModel",
      "state": {
       "_dom_classes": [],
       "_model_module": "@jupyter-widgets/controls",
       "_model_module_version": "1.5.0",
       "_model_name": "HTMLModel",
       "_view_count": null,
       "_view_module": "@jupyter-widgets/controls",
       "_view_module_version": "1.5.0",
       "_view_name": "HTMLView",
       "description": "",
       "description_tooltip": null,
       "layout": "IPY_MODEL_4c157f19301d4f4b92f54a2d7ede88dc",
       "placeholder": "​",
       "style": "IPY_MODEL_1ec2428dd63542acbc8ca10242c7c0aa",
       "value": ""
      }
     },
     "49a183fed54643a4bb170c838e7c8120": {
      "model_module": "@jupyter-widgets/base",
      "model_module_version": "1.2.0",
      "model_name": "LayoutModel",
      "state": {
       "_model_module": "@jupyter-widgets/base",
       "_model_module_version": "1.2.0",
       "_model_name": "LayoutModel",
       "_view_count": null,
       "_view_module": "@jupyter-widgets/base",
       "_view_module_version": "1.2.0",
       "_view_name": "LayoutView",
       "align_content": null,
       "align_items": null,
       "align_self": null,
       "border": null,
       "bottom": null,
       "display": null,
       "flex": null,
       "flex_flow": null,
       "grid_area": null,
       "grid_auto_columns": null,
       "grid_auto_flow": null,
       "grid_auto_rows": null,
       "grid_column": null,
       "grid_gap": null,
       "grid_row": null,
       "grid_template_areas": null,
       "grid_template_columns": null,
       "grid_template_rows": null,
       "height": null,
       "justify_content": null,
       "justify_items": null,
       "left": null,
       "margin": null,
       "max_height": null,
       "max_width": null,
       "min_height": null,
       "min_width": null,
       "object_fit": null,
       "object_position": null,
       "order": null,
       "overflow": null,
       "overflow_x": null,
       "overflow_y": null,
       "padding": null,
       "right": null,
       "top": null,
       "visibility": null,
       "width": null
      }
     },
     "4c157f19301d4f4b92f54a2d7ede88dc": {
      "model_module": "@jupyter-widgets/base",
      "model_module_version": "1.2.0",
      "model_name": "LayoutModel",
      "state": {
       "_model_module": "@jupyter-widgets/base",
       "_model_module_version": "1.2.0",
       "_model_name": "LayoutModel",
       "_view_count": null,
       "_view_module": "@jupyter-widgets/base",
       "_view_module_version": "1.2.0",
       "_view_name": "LayoutView",
       "align_content": null,
       "align_items": null,
       "align_self": null,
       "border": null,
       "bottom": null,
       "display": null,
       "flex": null,
       "flex_flow": null,
       "grid_area": null,
       "grid_auto_columns": null,
       "grid_auto_flow": null,
       "grid_auto_rows": null,
       "grid_column": null,
       "grid_gap": null,
       "grid_row": null,
       "grid_template_areas": null,
       "grid_template_columns": null,
       "grid_template_rows": null,
       "height": null,
       "justify_content": null,
       "justify_items": null,
       "left": null,
       "margin": null,
       "max_height": null,
       "max_width": null,
       "min_height": null,
       "min_width": null,
       "object_fit": null,
       "object_position": null,
       "order": null,
       "overflow": null,
       "overflow_x": null,
       "overflow_y": null,
       "padding": null,
       "right": null,
       "top": null,
       "visibility": null,
       "width": null
      }
     },
     "54e8d50b94d246cc934cd4d18dbb7864": {
      "model_module": "@jupyter-widgets/controls",
      "model_module_version": "1.5.0",
      "model_name": "DescriptionStyleModel",
      "state": {
       "_model_module": "@jupyter-widgets/controls",
       "_model_module_version": "1.5.0",
       "_model_name": "DescriptionStyleModel",
       "_view_count": null,
       "_view_module": "@jupyter-widgets/base",
       "_view_module_version": "1.2.0",
       "_view_name": "StyleView",
       "description_width": ""
      }
     },
     "566332bbeaed489da5d22f71d33297ce": {
      "model_module": "@jupyter-widgets/base",
      "model_module_version": "1.2.0",
      "model_name": "LayoutModel",
      "state": {
       "_model_module": "@jupyter-widgets/base",
       "_model_module_version": "1.2.0",
       "_model_name": "LayoutModel",
       "_view_count": null,
       "_view_module": "@jupyter-widgets/base",
       "_view_module_version": "1.2.0",
       "_view_name": "LayoutView",
       "align_content": null,
       "align_items": null,
       "align_self": null,
       "border": null,
       "bottom": null,
       "display": null,
       "flex": null,
       "flex_flow": null,
       "grid_area": null,
       "grid_auto_columns": null,
       "grid_auto_flow": null,
       "grid_auto_rows": null,
       "grid_column": null,
       "grid_gap": null,
       "grid_row": null,
       "grid_template_areas": null,
       "grid_template_columns": null,
       "grid_template_rows": null,
       "height": null,
       "justify_content": null,
       "justify_items": null,
       "left": null,
       "margin": null,
       "max_height": null,
       "max_width": null,
       "min_height": null,
       "min_width": null,
       "object_fit": null,
       "object_position": null,
       "order": null,
       "overflow": null,
       "overflow_x": null,
       "overflow_y": null,
       "padding": null,
       "right": null,
       "top": null,
       "visibility": null,
       "width": null
      }
     },
     "59fa50596aea44138cc7b53fcd248b9c": {
      "model_module": "@jupyter-widgets/base",
      "model_module_version": "1.2.0",
      "model_name": "LayoutModel",
      "state": {
       "_model_module": "@jupyter-widgets/base",
       "_model_module_version": "1.2.0",
       "_model_name": "LayoutModel",
       "_view_count": null,
       "_view_module": "@jupyter-widgets/base",
       "_view_module_version": "1.2.0",
       "_view_name": "LayoutView",
       "align_content": null,
       "align_items": null,
       "align_self": null,
       "border": null,
       "bottom": null,
       "display": null,
       "flex": null,
       "flex_flow": null,
       "grid_area": null,
       "grid_auto_columns": null,
       "grid_auto_flow": null,
       "grid_auto_rows": null,
       "grid_column": null,
       "grid_gap": null,
       "grid_row": null,
       "grid_template_areas": null,
       "grid_template_columns": null,
       "grid_template_rows": null,
       "height": null,
       "justify_content": null,
       "justify_items": null,
       "left": null,
       "margin": null,
       "max_height": null,
       "max_width": null,
       "min_height": null,
       "min_width": null,
       "object_fit": null,
       "object_position": null,
       "order": null,
       "overflow": null,
       "overflow_x": null,
       "overflow_y": null,
       "padding": null,
       "right": null,
       "top": null,
       "visibility": null,
       "width": null
      }
     },
     "5f9d58cd4ffb4b2a8b8530e2f0d90a3e": {
      "model_module": "@jupyter-widgets/controls",
      "model_module_version": "1.5.0",
      "model_name": "HBoxModel",
      "state": {
       "_dom_classes": [],
       "_model_module": "@jupyter-widgets/controls",
       "_model_module_version": "1.5.0",
       "_model_name": "HBoxModel",
       "_view_count": null,
       "_view_module": "@jupyter-widgets/controls",
       "_view_module_version": "1.5.0",
       "_view_name": "HBoxView",
       "box_style": "",
       "children": [
        "IPY_MODEL_9f17868415404851a02ea46d1a308a3b",
        "IPY_MODEL_fb40d177c67e4128ae5e0fea70435de7",
        "IPY_MODEL_a98a79e5a10540e5b36cf51a73570e44"
       ],
       "layout": "IPY_MODEL_59fa50596aea44138cc7b53fcd248b9c"
      }
     },
     "657510d154274a9c845da1f6a5615015": {
      "model_module": "@jupyter-widgets/controls",
      "model_module_version": "1.5.0",
      "model_name": "HTMLModel",
      "state": {
       "_dom_classes": [],
       "_model_module": "@jupyter-widgets/controls",
       "_model_module_version": "1.5.0",
       "_model_name": "HTMLModel",
       "_view_count": null,
       "_view_module": "@jupyter-widgets/controls",
       "_view_module_version": "1.5.0",
       "_view_name": "HTMLView",
       "description": "",
       "description_tooltip": null,
       "layout": "IPY_MODEL_3854975a73094e75802247d1eed98c87",
       "placeholder": "​",
       "style": "IPY_MODEL_e0afaa27959a472f8cbb25fe5597f295",
       "value": " 118822/118822 [00:03&lt;00:00, 61829.92it/s]"
      }
     },
     "7a1c871bbe3a404f9b7a2f3822834a47": {
      "model_module": "@jupyter-widgets/controls",
      "model_module_version": "1.5.0",
      "model_name": "HBoxModel",
      "state": {
       "_dom_classes": [],
       "_model_module": "@jupyter-widgets/controls",
       "_model_module_version": "1.5.0",
       "_model_name": "HBoxModel",
       "_view_count": null,
       "_view_module": "@jupyter-widgets/controls",
       "_view_module_version": "1.5.0",
       "_view_name": "HBoxView",
       "box_style": "",
       "children": [
        "IPY_MODEL_a6ffcb2ab40a457faaa075fac07427cd",
        "IPY_MODEL_11bae91ed78e4dd1beb1c29bfb564fd6",
        "IPY_MODEL_8ae5ea3130b14eecb59b69e613afd97e"
       ],
       "layout": "IPY_MODEL_a9040ee7e5d74068b2b9cd3d05da97b0"
      }
     },
     "7cf522b4dd144992ba002038af8159e4": {
      "model_module": "@jupyter-widgets/base",
      "model_module_version": "1.2.0",
      "model_name": "LayoutModel",
      "state": {
       "_model_module": "@jupyter-widgets/base",
       "_model_module_version": "1.2.0",
       "_model_name": "LayoutModel",
       "_view_count": null,
       "_view_module": "@jupyter-widgets/base",
       "_view_module_version": "1.2.0",
       "_view_name": "LayoutView",
       "align_content": null,
       "align_items": null,
       "align_self": null,
       "border": null,
       "bottom": null,
       "display": null,
       "flex": null,
       "flex_flow": null,
       "grid_area": null,
       "grid_auto_columns": null,
       "grid_auto_flow": null,
       "grid_auto_rows": null,
       "grid_column": null,
       "grid_gap": null,
       "grid_row": null,
       "grid_template_areas": null,
       "grid_template_columns": null,
       "grid_template_rows": null,
       "height": null,
       "justify_content": null,
       "justify_items": null,
       "left": null,
       "margin": null,
       "max_height": null,
       "max_width": null,
       "min_height": null,
       "min_width": null,
       "object_fit": null,
       "object_position": null,
       "order": null,
       "overflow": null,
       "overflow_x": null,
       "overflow_y": null,
       "padding": null,
       "right": null,
       "top": null,
       "visibility": null,
       "width": "20px"
      }
     },
     "7e0be168b66e47f48f655e20cea3f71a": {
      "model_module": "@jupyter-widgets/base",
      "model_module_version": "1.2.0",
      "model_name": "LayoutModel",
      "state": {
       "_model_module": "@jupyter-widgets/base",
       "_model_module_version": "1.2.0",
       "_model_name": "LayoutModel",
       "_view_count": null,
       "_view_module": "@jupyter-widgets/base",
       "_view_module_version": "1.2.0",
       "_view_name": "LayoutView",
       "align_content": null,
       "align_items": null,
       "align_self": null,
       "border": null,
       "bottom": null,
       "display": null,
       "flex": null,
       "flex_flow": null,
       "grid_area": null,
       "grid_auto_columns": null,
       "grid_auto_flow": null,
       "grid_auto_rows": null,
       "grid_column": null,
       "grid_gap": null,
       "grid_row": null,
       "grid_template_areas": null,
       "grid_template_columns": null,
       "grid_template_rows": null,
       "height": null,
       "justify_content": null,
       "justify_items": null,
       "left": null,
       "margin": null,
       "max_height": null,
       "max_width": null,
       "min_height": null,
       "min_width": null,
       "object_fit": null,
       "object_position": null,
       "order": null,
       "overflow": null,
       "overflow_x": null,
       "overflow_y": null,
       "padding": null,
       "right": null,
       "top": null,
       "visibility": null,
       "width": null
      }
     },
     "7ee2593413694c01ac20d901fda0f5d9": {
      "model_module": "@jupyter-widgets/controls",
      "model_module_version": "1.5.0",
      "model_name": "ProgressStyleModel",
      "state": {
       "_model_module": "@jupyter-widgets/controls",
       "_model_module_version": "1.5.0",
       "_model_name": "ProgressStyleModel",
       "_view_count": null,
       "_view_module": "@jupyter-widgets/base",
       "_view_module_version": "1.2.0",
       "_view_name": "StyleView",
       "bar_color": null,
       "description_width": ""
      }
     },
     "8ae5ea3130b14eecb59b69e613afd97e": {
      "model_module": "@jupyter-widgets/controls",
      "model_module_version": "1.5.0",
      "model_name": "HTMLModel",
      "state": {
       "_dom_classes": [],
       "_model_module": "@jupyter-widgets/controls",
       "_model_module_version": "1.5.0",
       "_model_name": "HTMLModel",
       "_view_count": null,
       "_view_module": "@jupyter-widgets/controls",
       "_view_module_version": "1.5.0",
       "_view_name": "HTMLView",
       "description": "",
       "description_tooltip": null,
       "layout": "IPY_MODEL_7e0be168b66e47f48f655e20cea3f71a",
       "placeholder": "​",
       "style": "IPY_MODEL_083ccc42791d4b57a0e6fc04b44d9d68",
       "value": " 118822/118822 [10:01&lt;00:00, 290.34it/s]"
      }
     },
     "92b9ba814f564cd89366161f84eead26": {
      "model_module": "@jupyter-widgets/controls",
      "model_module_version": "1.5.0",
      "model_name": "ProgressStyleModel",
      "state": {
       "_model_module": "@jupyter-widgets/controls",
       "_model_module_version": "1.5.0",
       "_model_name": "ProgressStyleModel",
       "_view_count": null,
       "_view_module": "@jupyter-widgets/base",
       "_view_module_version": "1.2.0",
       "_view_name": "StyleView",
       "bar_color": null,
       "description_width": ""
      }
     },
     "992c3d437d2d41ea969baa385f6ad4d0": {
      "model_module": "@jupyter-widgets/base",
      "model_module_version": "1.2.0",
      "model_name": "LayoutModel",
      "state": {
       "_model_module": "@jupyter-widgets/base",
       "_model_module_version": "1.2.0",
       "_model_name": "LayoutModel",
       "_view_count": null,
       "_view_module": "@jupyter-widgets/base",
       "_view_module_version": "1.2.0",
       "_view_name": "LayoutView",
       "align_content": null,
       "align_items": null,
       "align_self": null,
       "border": null,
       "bottom": null,
       "display": null,
       "flex": null,
       "flex_flow": null,
       "grid_area": null,
       "grid_auto_columns": null,
       "grid_auto_flow": null,
       "grid_auto_rows": null,
       "grid_column": null,
       "grid_gap": null,
       "grid_row": null,
       "grid_template_areas": null,
       "grid_template_columns": null,
       "grid_template_rows": null,
       "height": null,
       "justify_content": null,
       "justify_items": null,
       "left": null,
       "margin": null,
       "max_height": null,
       "max_width": null,
       "min_height": null,
       "min_width": null,
       "object_fit": null,
       "object_position": null,
       "order": null,
       "overflow": null,
       "overflow_x": null,
       "overflow_y": null,
       "padding": null,
       "right": null,
       "top": null,
       "visibility": null,
       "width": null
      }
     },
     "9f17868415404851a02ea46d1a308a3b": {
      "model_module": "@jupyter-widgets/controls",
      "model_module_version": "1.5.0",
      "model_name": "HTMLModel",
      "state": {
       "_dom_classes": [],
       "_model_module": "@jupyter-widgets/controls",
       "_model_module_version": "1.5.0",
       "_model_name": "HTMLModel",
       "_view_count": null,
       "_view_module": "@jupyter-widgets/controls",
       "_view_module_version": "1.5.0",
       "_view_name": "HTMLView",
       "description": "",
       "description_tooltip": null,
       "layout": "IPY_MODEL_566332bbeaed489da5d22f71d33297ce",
       "placeholder": "​",
       "style": "IPY_MODEL_54e8d50b94d246cc934cd4d18dbb7864",
       "value": ""
      }
     },
     "a6ffcb2ab40a457faaa075fac07427cd": {
      "model_module": "@jupyter-widgets/controls",
      "model_module_version": "1.5.0",
      "model_name": "HTMLModel",
      "state": {
       "_dom_classes": [],
       "_model_module": "@jupyter-widgets/controls",
       "_model_module_version": "1.5.0",
       "_model_name": "HTMLModel",
       "_view_count": null,
       "_view_module": "@jupyter-widgets/controls",
       "_view_module_version": "1.5.0",
       "_view_name": "HTMLView",
       "description": "",
       "description_tooltip": null,
       "layout": "IPY_MODEL_49a183fed54643a4bb170c838e7c8120",
       "placeholder": "​",
       "style": "IPY_MODEL_e974f0f286e14f4d846e14db47a08994",
       "value": "100%"
      }
     },
     "a9040ee7e5d74068b2b9cd3d05da97b0": {
      "model_module": "@jupyter-widgets/base",
      "model_module_version": "1.2.0",
      "model_name": "LayoutModel",
      "state": {
       "_model_module": "@jupyter-widgets/base",
       "_model_module_version": "1.2.0",
       "_model_name": "LayoutModel",
       "_view_count": null,
       "_view_module": "@jupyter-widgets/base",
       "_view_module_version": "1.2.0",
       "_view_name": "LayoutView",
       "align_content": null,
       "align_items": null,
       "align_self": null,
       "border": null,
       "bottom": null,
       "display": null,
       "flex": null,
       "flex_flow": null,
       "grid_area": null,
       "grid_auto_columns": null,
       "grid_auto_flow": null,
       "grid_auto_rows": null,
       "grid_column": null,
       "grid_gap": null,
       "grid_row": null,
       "grid_template_areas": null,
       "grid_template_columns": null,
       "grid_template_rows": null,
       "height": null,
       "justify_content": null,
       "justify_items": null,
       "left": null,
       "margin": null,
       "max_height": null,
       "max_width": null,
       "min_height": null,
       "min_width": null,
       "object_fit": null,
       "object_position": null,
       "order": null,
       "overflow": null,
       "overflow_x": null,
       "overflow_y": null,
       "padding": null,
       "right": null,
       "top": null,
       "visibility": null,
       "width": null
      }
     },
     "a98a79e5a10540e5b36cf51a73570e44": {
      "model_module": "@jupyter-widgets/controls",
      "model_module_version": "1.5.0",
      "model_name": "HTMLModel",
      "state": {
       "_dom_classes": [],
       "_model_module": "@jupyter-widgets/controls",
       "_model_module_version": "1.5.0",
       "_model_name": "HTMLModel",
       "_view_count": null,
       "_view_module": "@jupyter-widgets/controls",
       "_view_module_version": "1.5.0",
       "_view_name": "HTMLView",
       "description": "",
       "description_tooltip": null,
       "layout": "IPY_MODEL_295de970166b44139e91f941e523a2ec",
       "placeholder": "​",
       "style": "IPY_MODEL_05c2a18eaf794b05a85d623e762faf19",
       "value": " 87599/? [22:45&lt;00:00, 64.62it/s]"
      }
     },
     "b9829738695e40abad1749d4886393ce": {
      "model_module": "@jupyter-widgets/controls",
      "model_module_version": "1.5.0",
      "model_name": "FloatProgressModel",
      "state": {
       "_dom_classes": [],
       "_model_module": "@jupyter-widgets/controls",
       "_model_module_version": "1.5.0",
       "_model_name": "FloatProgressModel",
       "_view_count": null,
       "_view_module": "@jupyter-widgets/controls",
       "_view_module_version": "1.5.0",
       "_view_name": "ProgressView",
       "bar_style": "success",
       "description": "",
       "description_tooltip": null,
       "layout": "IPY_MODEL_ecfec1645f0546cc86bd4def0c516257",
       "max": 118822.0,
       "min": 0.0,
       "orientation": "horizontal",
       "style": "IPY_MODEL_7ee2593413694c01ac20d901fda0f5d9",
       "value": 118822.0
      }
     },
     "be10fa7b129e46f9bb0d7352135599cc": {
      "model_module": "@jupyter-widgets/base",
      "model_module_version": "1.2.0",
      "model_name": "LayoutModel",
      "state": {
       "_model_module": "@jupyter-widgets/base",
       "_model_module_version": "1.2.0",
       "_model_name": "LayoutModel",
       "_view_count": null,
       "_view_module": "@jupyter-widgets/base",
       "_view_module_version": "1.2.0",
       "_view_name": "LayoutView",
       "align_content": null,
       "align_items": null,
       "align_self": null,
       "border": null,
       "bottom": null,
       "display": null,
       "flex": null,
       "flex_flow": null,
       "grid_area": null,
       "grid_auto_columns": null,
       "grid_auto_flow": null,
       "grid_auto_rows": null,
       "grid_column": null,
       "grid_gap": null,
       "grid_row": null,
       "grid_template_areas": null,
       "grid_template_columns": null,
       "grid_template_rows": null,
       "height": null,
       "justify_content": null,
       "justify_items": null,
       "left": null,
       "margin": null,
       "max_height": null,
       "max_width": null,
       "min_height": null,
       "min_width": null,
       "object_fit": null,
       "object_position": null,
       "order": null,
       "overflow": null,
       "overflow_x": null,
       "overflow_y": null,
       "padding": null,
       "right": null,
       "top": null,
       "visibility": null,
       "width": null
      }
     },
     "c3478724f825423b928c06acb3549a07": {
      "model_module": "@jupyter-widgets/controls",
      "model_module_version": "1.5.0",
      "model_name": "DescriptionStyleModel",
      "state": {
       "_model_module": "@jupyter-widgets/controls",
       "_model_module_version": "1.5.0",
       "_model_name": "DescriptionStyleModel",
       "_view_count": null,
       "_view_module": "@jupyter-widgets/base",
       "_view_module_version": "1.2.0",
       "_view_name": "StyleView",
       "description_width": ""
      }
     },
     "c7a9ce7a61694e78891f2eab8ab70994": {
      "model_module": "@jupyter-widgets/controls",
      "model_module_version": "1.5.0",
      "model_name": "ProgressStyleModel",
      "state": {
       "_model_module": "@jupyter-widgets/controls",
       "_model_module_version": "1.5.0",
       "_model_name": "ProgressStyleModel",
       "_view_count": null,
       "_view_module": "@jupyter-widgets/base",
       "_view_module_version": "1.2.0",
       "_view_name": "StyleView",
       "bar_color": null,
       "description_width": ""
      }
     },
     "d2c91043752641dc8768d660ee24e91c": {
      "model_module": "@jupyter-widgets/controls",
      "model_module_version": "1.5.0",
      "model_name": "HTMLModel",
      "state": {
       "_dom_classes": [],
       "_model_module": "@jupyter-widgets/controls",
       "_model_module_version": "1.5.0",
       "_model_name": "HTMLModel",
       "_view_count": null,
       "_view_module": "@jupyter-widgets/controls",
       "_view_module_version": "1.5.0",
       "_view_name": "HTMLView",
       "description": "",
       "description_tooltip": null,
       "layout": "IPY_MODEL_e41a42df31634255b20cade72bb17910",
       "placeholder": "​",
       "style": "IPY_MODEL_f226fe00715a42d49098fed12899d7b4",
       "value": " 34726/? [09:15&lt;00:00, 65.27it/s]"
      }
     },
     "d7b7c83b12d44b72bada58d5bd1d5381": {
      "model_module": "@jupyter-widgets/controls",
      "model_module_version": "1.5.0",
      "model_name": "HBoxModel",
      "state": {
       "_dom_classes": [],
       "_model_module": "@jupyter-widgets/controls",
       "_model_module_version": "1.5.0",
       "_model_name": "HBoxModel",
       "_view_count": null,
       "_view_module": "@jupyter-widgets/controls",
       "_view_module_version": "1.5.0",
       "_view_name": "HBoxView",
       "box_style": "",
       "children": [
        "IPY_MODEL_ea12c55d1a3c46ddb3c194fd594c9f09",
        "IPY_MODEL_b9829738695e40abad1749d4886393ce",
        "IPY_MODEL_657510d154274a9c845da1f6a5615015"
       ],
       "layout": "IPY_MODEL_16bedcba1b8643b5a4605446ea38782c"
      }
     },
     "e0afaa27959a472f8cbb25fe5597f295": {
      "model_module": "@jupyter-widgets/controls",
      "model_module_version": "1.5.0",
      "model_name": "DescriptionStyleModel",
      "state": {
       "_model_module": "@jupyter-widgets/controls",
       "_model_module_version": "1.5.0",
       "_model_name": "DescriptionStyleModel",
       "_view_count": null,
       "_view_module": "@jupyter-widgets/base",
       "_view_module_version": "1.2.0",
       "_view_name": "StyleView",
       "description_width": ""
      }
     },
     "e231459124dc43dda38f1cd6d0fdacc4": {
      "model_module": "@jupyter-widgets/controls",
      "model_module_version": "1.5.0",
      "model_name": "FloatProgressModel",
      "state": {
       "_dom_classes": [],
       "_model_module": "@jupyter-widgets/controls",
       "_model_module_version": "1.5.0",
       "_model_name": "FloatProgressModel",
       "_view_count": null,
       "_view_module": "@jupyter-widgets/controls",
       "_view_module_version": "1.5.0",
       "_view_name": "ProgressView",
       "bar_style": "success",
       "description": "",
       "description_tooltip": null,
       "layout": "IPY_MODEL_371935b551ac4295b6c1aca9ceaaa5c4",
       "max": 1.0,
       "min": 0.0,
       "orientation": "horizontal",
       "style": "IPY_MODEL_c7a9ce7a61694e78891f2eab8ab70994",
       "value": 1.0
      }
     },
     "e41a42df31634255b20cade72bb17910": {
      "model_module": "@jupyter-widgets/base",
      "model_module_version": "1.2.0",
      "model_name": "LayoutModel",
      "state": {
       "_model_module": "@jupyter-widgets/base",
       "_model_module_version": "1.2.0",
       "_model_name": "LayoutModel",
       "_view_count": null,
       "_view_module": "@jupyter-widgets/base",
       "_view_module_version": "1.2.0",
       "_view_name": "LayoutView",
       "align_content": null,
       "align_items": null,
       "align_self": null,
       "border": null,
       "bottom": null,
       "display": null,
       "flex": null,
       "flex_flow": null,
       "grid_area": null,
       "grid_auto_columns": null,
       "grid_auto_flow": null,
       "grid_auto_rows": null,
       "grid_column": null,
       "grid_gap": null,
       "grid_row": null,
       "grid_template_areas": null,
       "grid_template_columns": null,
       "grid_template_rows": null,
       "height": null,
       "justify_content": null,
       "justify_items": null,
       "left": null,
       "margin": null,
       "max_height": null,
       "max_width": null,
       "min_height": null,
       "min_width": null,
       "object_fit": null,
       "object_position": null,
       "order": null,
       "overflow": null,
       "overflow_x": null,
       "overflow_y": null,
       "padding": null,
       "right": null,
       "top": null,
       "visibility": null,
       "width": null
      }
     },
     "e974f0f286e14f4d846e14db47a08994": {
      "model_module": "@jupyter-widgets/controls",
      "model_module_version": "1.5.0",
      "model_name": "DescriptionStyleModel",
      "state": {
       "_model_module": "@jupyter-widgets/controls",
       "_model_module_version": "1.5.0",
       "_model_name": "DescriptionStyleModel",
       "_view_count": null,
       "_view_module": "@jupyter-widgets/base",
       "_view_module_version": "1.2.0",
       "_view_name": "StyleView",
       "description_width": ""
      }
     },
     "ea12c55d1a3c46ddb3c194fd594c9f09": {
      "model_module": "@jupyter-widgets/controls",
      "model_module_version": "1.5.0",
      "model_name": "HTMLModel",
      "state": {
       "_dom_classes": [],
       "_model_module": "@jupyter-widgets/controls",
       "_model_module_version": "1.5.0",
       "_model_name": "HTMLModel",
       "_view_count": null,
       "_view_module": "@jupyter-widgets/controls",
       "_view_module_version": "1.5.0",
       "_view_name": "HTMLView",
       "description": "",
       "description_tooltip": null,
       "layout": "IPY_MODEL_be10fa7b129e46f9bb0d7352135599cc",
       "placeholder": "​",
       "style": "IPY_MODEL_c3478724f825423b928c06acb3549a07",
       "value": "100%"
      }
     },
     "ecfec1645f0546cc86bd4def0c516257": {
      "model_module": "@jupyter-widgets/base",
      "model_module_version": "1.2.0",
      "model_name": "LayoutModel",
      "state": {
       "_model_module": "@jupyter-widgets/base",
       "_model_module_version": "1.2.0",
       "_model_name": "LayoutModel",
       "_view_count": null,
       "_view_module": "@jupyter-widgets/base",
       "_view_module_version": "1.2.0",
       "_view_name": "LayoutView",
       "align_content": null,
       "align_items": null,
       "align_self": null,
       "border": null,
       "bottom": null,
       "display": null,
       "flex": null,
       "flex_flow": null,
       "grid_area": null,
       "grid_auto_columns": null,
       "grid_auto_flow": null,
       "grid_auto_rows": null,
       "grid_column": null,
       "grid_gap": null,
       "grid_row": null,
       "grid_template_areas": null,
       "grid_template_columns": null,
       "grid_template_rows": null,
       "height": null,
       "justify_content": null,
       "justify_items": null,
       "left": null,
       "margin": null,
       "max_height": null,
       "max_width": null,
       "min_height": null,
       "min_width": null,
       "object_fit": null,
       "object_position": null,
       "order": null,
       "overflow": null,
       "overflow_x": null,
       "overflow_y": null,
       "padding": null,
       "right": null,
       "top": null,
       "visibility": null,
       "width": null
      }
     },
     "f226fe00715a42d49098fed12899d7b4": {
      "model_module": "@jupyter-widgets/controls",
      "model_module_version": "1.5.0",
      "model_name": "DescriptionStyleModel",
      "state": {
       "_model_module": "@jupyter-widgets/controls",
       "_model_module_version": "1.5.0",
       "_model_name": "DescriptionStyleModel",
       "_view_count": null,
       "_view_module": "@jupyter-widgets/base",
       "_view_module_version": "1.2.0",
       "_view_name": "StyleView",
       "description_width": ""
      }
     },
     "f2c32afb6a92436fbe2392fce064f71b": {
      "model_module": "@jupyter-widgets/base",
      "model_module_version": "1.2.0",
      "model_name": "LayoutModel",
      "state": {
       "_model_module": "@jupyter-widgets/base",
       "_model_module_version": "1.2.0",
       "_model_name": "LayoutModel",
       "_view_count": null,
       "_view_module": "@jupyter-widgets/base",
       "_view_module_version": "1.2.0",
       "_view_name": "LayoutView",
       "align_content": null,
       "align_items": null,
       "align_self": null,
       "border": null,
       "bottom": null,
       "display": null,
       "flex": null,
       "flex_flow": null,
       "grid_area": null,
       "grid_auto_columns": null,
       "grid_auto_flow": null,
       "grid_auto_rows": null,
       "grid_column": null,
       "grid_gap": null,
       "grid_row": null,
       "grid_template_areas": null,
       "grid_template_columns": null,
       "grid_template_rows": null,
       "height": null,
       "justify_content": null,
       "justify_items": null,
       "left": null,
       "margin": null,
       "max_height": null,
       "max_width": null,
       "min_height": null,
       "min_width": null,
       "object_fit": null,
       "object_position": null,
       "order": null,
       "overflow": null,
       "overflow_x": null,
       "overflow_y": null,
       "padding": null,
       "right": null,
       "top": null,
       "visibility": null,
       "width": null
      }
     },
     "fb40d177c67e4128ae5e0fea70435de7": {
      "model_module": "@jupyter-widgets/controls",
      "model_module_version": "1.5.0",
      "model_name": "FloatProgressModel",
      "state": {
       "_dom_classes": [],
       "_model_module": "@jupyter-widgets/controls",
       "_model_module_version": "1.5.0",
       "_model_name": "FloatProgressModel",
       "_view_count": null,
       "_view_module": "@jupyter-widgets/controls",
       "_view_module_version": "1.5.0",
       "_view_name": "ProgressView",
       "bar_style": "success",
       "description": "",
       "description_tooltip": null,
       "layout": "IPY_MODEL_7cf522b4dd144992ba002038af8159e4",
       "max": 1.0,
       "min": 0.0,
       "orientation": "horizontal",
       "style": "IPY_MODEL_3e97aa81efa948b1905b6dd7e775b7d9",
       "value": 1.0
      }
     }
    },
    "version_major": 2,
    "version_minor": 0
   }
  }
 },
 "nbformat": 4,
 "nbformat_minor": 5
}
